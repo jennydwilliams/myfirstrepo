{
 "cells": [
  {
   "cell_type": "markdown",
   "id": "7b0143dc-e019-41b3-b5ee-e12a75813347",
   "metadata": {
    "tags": []
   },
   "source": [
    "# Data Science Tools and Ecosystem"
   ]
  },
  {
   "cell_type": "markdown",
   "id": "b9ad1454-402b-417c-a5a2-96e21eb28c64",
   "metadata": {},
   "source": [
    "This notebook summarizes data science tools and the data science ecosystem."
   ]
  },
  {
   "cell_type": "markdown",
   "id": "42e0bebb-ca1b-45fe-b344-17d96a825fd4",
   "metadata": {},
   "source": [
    "**Objectives:**\n",
    "\n",
    "- List popular languages for data science\n",
    "- List common libraries for data science\n",
    "- List popular data science tools\n",
    "- Demonstrate simple arithmetic expressions"
   ]
  },
  {
   "cell_type": "markdown",
   "id": "dd4c01b8-65d7-42d5-a5a1-046f2a35c7f8",
   "metadata": {},
   "source": [
    "Some of the popular languages that data scientists use are:\n",
    "1. Python\n",
    "2. R\n",
    "3. SQL"
   ]
  },
  {
   "cell_type": "markdown",
   "id": "a5414e8d-d0a9-4a0b-b175-102bff12f961",
   "metadata": {},
   "source": [
    "Some libraries commonly used by data scientists include:\n",
    "1. Numpy\n",
    "2. Pandas\n",
    "3. Matplotlib"
   ]
  },
  {
   "cell_type": "markdown",
   "id": "582661d3-f429-4f4a-ad44-fcfec2ea424a",
   "metadata": {},
   "source": [
    "| Data Science Tools |\n",
    "| ----- |\n",
    "| Jupyter |\n",
    "| RStudio |\n",
    "| Spyder |"
   ]
  },
  {
   "cell_type": "markdown",
   "id": "f6875cdb-8fe7-4b5a-8276-508fc8541db4",
   "metadata": {},
   "source": [
    "### Below are a few examples of evaluating arithmetic expressions in Python"
   ]
  },
  {
   "cell_type": "code",
   "execution_count": 1,
   "id": "c126c4a0-37b9-417e-b114-29041793a159",
   "metadata": {
    "tags": []
   },
   "outputs": [
    {
     "data": {
      "text/plain": [
       "17"
      ]
     },
     "execution_count": 1,
     "metadata": {},
     "output_type": "execute_result"
    }
   ],
   "source": [
    "# This a simple arithmetic expression to mutiply then add integers\n",
    "\n",
    "(3*4)+5"
   ]
  },
  {
   "cell_type": "code",
   "execution_count": 2,
   "id": "bf02d905-88e2-457a-a999-3444ebb9bdc9",
   "metadata": {
    "tags": []
   },
   "outputs": [
    {
     "data": {
      "text/plain": [
       "3.3333333333333335"
      ]
     },
     "execution_count": 2,
     "metadata": {},
     "output_type": "execute_result"
    }
   ],
   "source": [
    " # This will convert 200 minutes to hours by diving by 60\n",
    "\n",
    "(200/60)"
   ]
  },
  {
   "cell_type": "markdown",
   "id": "74e96a93-8241-4b6f-b563-44a34d2d1be2",
   "metadata": {},
   "source": [
    "## Author\n",
    "Jenny Williams"
   ]
  }
 ],
 "metadata": {
  "kernelspec": {
   "display_name": "Python",
   "language": "python",
   "name": "conda-env-python-py"
  },
  "language_info": {
   "codemirror_mode": {
    "name": "ipython",
    "version": 3
   },
   "file_extension": ".py",
   "mimetype": "text/x-python",
   "name": "python",
   "nbconvert_exporter": "python",
   "pygments_lexer": "ipython3",
   "version": "3.7.12"
  }
 },
 "nbformat": 4,
 "nbformat_minor": 5
}
